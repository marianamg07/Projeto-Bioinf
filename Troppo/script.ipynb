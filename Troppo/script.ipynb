{
 "cells": [
  {
   "cell_type": "code",
   "execution_count": 1,
   "id": "01488503-562e-424c-a392-4ae3a0bef740",
   "metadata": {},
   "outputs": [],
   "source": [
    "from troppo.omics.readers.generic import TabularReader\n",
    "from troppo.methods_wrappers import ReconstructionWrapper\n",
    "from troppo.tasks.core import TaskEvaluator\n",
    "from troppo.tasks.task_io import JSONTaskIO\n",
    "from cobra.io import read_sbml_model, load_matlab_model\n",
    "from cobra.io import write_sbml_model\n",
    "from cobra.flux_analysis.variability import find_blocked_reactions\n",
    "from cobamp.core import *\n",
    "import cobamp as mp\n",
    "from cobamp.utilities.parallel import batch_run\n",
    "import pandas as pd\n",
    "from json import JSONEncoder, JSONDecoder\n",
    "import numpy as np\n",
    "from numpy import log\n",
    "import re"
   ]
  },
  {
   "cell_type": "code",
   "execution_count": 2,
   "id": "e0a0f1b1-e979-431d-b53f-5cf36f466095",
   "metadata": {},
   "outputs": [],
   "source": [
    "import cplex"
   ]
  },
  {
   "cell_type": "code",
   "execution_count": 3,
   "id": "48f879f8-63a7-4743-9480-a2d39484314a",
   "metadata": {},
   "outputs": [],
   "source": [
    "patt = re.compile('__COBAMPGPRDOT__[0-9]{1}')  # find .{number} references\n",
    "replace_alt_transcripts = lambda x: patt.sub('', x)  # replace .{number} with nothing"
   ]
  },
  {
   "cell_type": "code",
   "execution_count": 5,
   "id": "f9fafd01-314a-40e4-ab04-38c2eb8ea5df",
   "metadata": {
    "tags": []
   },
   "outputs": [],
   "source": [
    "model=('Recon3D.xml')\n",
    "data=('expression.csv')\n",
    "tasks=('r3d_media_metabolites.json')\n",
    "mdl=load_matlab_model('Recon3DModel_301.mat')\n",
    "cmodl=[]"
   ]
  },
  {
   "cell_type": "code",
   "execution_count": 6,
   "id": "8b0ef892-f312-4a82-bbc1-da31dd5b9154",
   "metadata": {},
   "outputs": [],
   "source": [
    "TASK_RESULTS_PATH = ('r3d_compact_task_results_tnbc_bc_new_nodrains_only_feas.json')  # task evaluation\n",
    "CS_MODEL_DF_PATH = ('r3d_compact_tnbc_bc_tINIT.csv')"
   ]
  },
  {
   "cell_type": "code",
   "execution_count": 7,
   "id": "4e0e17bf-d1a4-4ace-a39f-bbaf374b2918",
   "metadata": {},
   "outputs": [],
   "source": [
    "ocs = TabularReader(data, nomenclature='symbol', omics_type='transcriptomics').to_containers()"
   ]
  },
  {
   "cell_type": "code",
   "execution_count": 9,
   "id": "36b3a022-6a5e-43a6-ba15-4ee250a9cdaf",
   "metadata": {
    "tags": []
   },
   "outputs": [],
   "source": [
    "if cmodl==[]:\n",
    "        model_consistent = read_sbml_model(model)\n",
    "        model_consistent.remove_reactions(\n",
    "            [r for r in model_consistent.reactions if r.id[:3] == 'DM_' or r.id[:5] == 'sink_'], remove_orphans=True)\n",
    "        blocked_reactions = find_blocked_reactions(model_consistent)\n",
    "        model_consistent.remove_reactions(blocked_reactions, remove_orphans=True)\n",
    "        write_sbml_model(model_consistent, cmodl)  # write a model file if it doesn't exist\n",
    "else:\n",
    "        model_consistent = read_sbml_model(cmodl)"
   ]
  },
  {
   "cell_type": "code",
   "execution_count": 10,
   "id": "ea5625f0-c00d-4c50-bb06-0654c8885f09",
   "metadata": {
    "tags": []
   },
   "outputs": [],
   "source": [
    "rw = ReconstructionWrapper(model_consistent, ttg_ratio=9999, gpr_gene_parse_function=replace_alt_transcripts)"
   ]
  },
  {
   "cell_type": "code",
   "execution_count": 31,
   "id": "5b5d37be-870b-4918-bf21-49e66df5e4e9",
   "metadata": {},
   "outputs": [],
   "source": [
    "t =0.9"
   ]
  },
  {
   "cell_type": "code",
   "execution_count": 32,
   "id": "e0ea86be-3e84-40ef-8f56-255c1552dfff",
   "metadata": {},
   "outputs": [],
   "source": [
    "def integration_fx(data_map):\n",
    "        return [[k for k,v in data_map.get_scores().items() if (v is not None and v > t) or k in ['biomass_reaction']]]"
   ]
  },
  {
   "cell_type": "code",
   "execution_count": 33,
   "id": "3e654d03-1016-4415-8662-344d59cc7966",
   "metadata": {},
   "outputs": [],
   "source": [
    "def reconstruction_func(omics_container, params):\n",
    "\t\tt, rw = [params[k] for k in ['t', 'rw']]  # load parameters\n",
    "\t\ttry:\n",
    "\t\t\t# if no errors appear, call the run_from_omics method passing the omics_container,\n",
    "\t\t\t# algorithm string, integration strategy (how the core is determined) and a solver\n",
    "\t\t\t# for fastcore, a threshold-based integration strategy retrieves core reactions if the score\n",
    "\t\t\t# is above the threshold t\n",
    "\t\t\treturn rw.run_from_omics(omics_data=omics_container, algorithm='fastcore',\n",
    "                                     integration_strategy=('threshold', [integration_fx]), solver='CPLEX')\n",
    "\t\texcept:\n",
    "\t\t\t# the result from run_from_omics is a dict mapping reaction ids and a boolean flag - True if\n",
    "\t\t\t# the reaction is in the model or false otherwise\n",
    "\t\t\t# in case an error arises, assume all reactions are False\n",
    "\t\t\treturn {r: False for r in rw.model_reader.r_ids}"
   ]
  },
  {
   "cell_type": "code",
   "execution_count": 35,
   "id": "73b718e2-971e-46fc-94a0-1a61b9b62cc1",
   "metadata": {
    "tags": []
   },
   "outputs": [],
   "source": [
    "batch_fastcore_res = batch_run(reconstruction_func, ocs, {'t': t, 'rw': rw}, threads=8)"
   ]
  },
  {
   "cell_type": "code",
   "execution_count": 36,
   "id": "d94cb67b-e48b-43fe-9838-3dc9cb99cf05",
   "metadata": {},
   "outputs": [],
   "source": [
    "fastcore_res_dict = dict(zip([('tINIT', oc.condition) for oc in ocs], batch_fastcore_res))"
   ]
  },
  {
   "cell_type": "code",
   "execution_count": 37,
   "id": "8c49b003-783f-450a-a4dd-f0d15260abb9",
   "metadata": {},
   "outputs": [],
   "source": [
    "pd.DataFrame.from_dict(fastcore_res_dict, orient='index').to_csv(CS_MODEL_DF_PATH)"
   ]
  },
  {
   "cell_type": "code",
   "execution_count": 38,
   "id": "0c317460-650e-4d8c-8516-fd2846915362",
   "metadata": {},
   "outputs": [],
   "source": [
    "fastcore_res_dict = pd.read_csv(CS_MODEL_DF_PATH, index_col=[0, 1]).T.to_dict()"
   ]
  },
  {
   "cell_type": "code",
   "execution_count": 45,
   "id": "75150ffb-7289-41d2-a8c2-85c4774c9d1b",
   "metadata": {},
   "outputs": [],
   "source": [
    "task_model = read_sbml_model('Recon3D.xml')"
   ]
  },
  {
   "cell_type": "code",
   "execution_count": 41,
   "id": "9864e359-0c14-4d86-bd68-e4665495b915",
   "metadata": {},
   "outputs": [],
   "source": [
    "task_list = [t for t in JSONTaskIO().read_task(tasks)\n",
    "             if len((set(t.inflow_dict) | set(t.outflow_dict)) - set([m.id for m in task_model.metabolites])) == 0]\n",
    "for task in task_list:\n",
    "    task.inflow_dict = {k:v if k not in task.outflow_dict.keys() else [-1000, 1000] for k,v in task.inflow_dict.items()}\n",
    "    task.outflow_dict = {k:v for k,v in task.outflow_dict.items() if k not in task.inflow_dict.items()}\n",
    "for task in task_list:\n",
    "    task.mandatory_activity = []\n"
   ]
  },
  {
   "cell_type": "code",
   "execution_count": 25,
   "id": "2bfcc648-2fdd-408e-b55b-120731074e76",
   "metadata": {},
   "outputs": [],
   "source": [
    "for k in task_model.boundary:\n",
    "\tk.knock_out()"
   ]
  },
  {
   "cell_type": "code",
   "execution_count": 26,
   "id": "96dc87b6-22a1-44bc-aacd-9069ceb13f36",
   "metadata": {},
   "outputs": [],
   "source": [
    "all_reactions = set([r.id for r in task_model.reactions])"
   ]
  },
  {
   "cell_type": "code",
   "execution_count": 27,
   "id": "eee85065-1b3d-441f-ab62-2663a35f899d",
   "metadata": {},
   "outputs": [],
   "source": [
    "task_eval_results = {}"
   ]
  },
  {
   "cell_type": "code",
   "execution_count": 34,
   "id": "bf2cbf1d-823c-4928-85cf-b3d47cbc6756",
   "metadata": {},
   "outputs": [
    {
     "ename": "ValueError",
     "evalue": "not enough values to unpack (expected 2, got 0)",
     "output_type": "error",
     "traceback": [
      "\u001b[1;31m---------------------------------------------------------------------------\u001b[0m",
      "\u001b[1;31mValueError\u001b[0m                                Traceback (most recent call last)",
      "\u001b[1;32m<ipython-input-34-d0ec26082181>\u001b[0m in \u001b[0;36m<module>\u001b[1;34m\u001b[0m\n\u001b[0;32m      9\u001b[0m \u001b[1;33m\u001b[0m\u001b[0m\n\u001b[0;32m     10\u001b[0m         \u001b[1;31m# create a task evaluator instance with the context specific model and the supplied task list and solver\u001b[0m\u001b[1;33m\u001b[0m\u001b[1;33m\u001b[0m\u001b[1;33m\u001b[0m\u001b[0m\n\u001b[1;32m---> 11\u001b[1;33m         \u001b[0mtask_eval\u001b[0m \u001b[1;33m=\u001b[0m \u001b[0mTaskEvaluator\u001b[0m\u001b[1;33m(\u001b[0m\u001b[0mmodel\u001b[0m\u001b[1;33m=\u001b[0m\u001b[0mtask_model\u001b[0m\u001b[1;33m,\u001b[0m \u001b[0mtasks\u001b[0m\u001b[1;33m=\u001b[0m\u001b[0mtask_list\u001b[0m\u001b[1;33m,\u001b[0m \u001b[0msolver\u001b[0m\u001b[1;33m=\u001b[0m\u001b[1;34m'CPLEX'\u001b[0m\u001b[1;33m)\u001b[0m\u001b[1;33m\u001b[0m\u001b[1;33m\u001b[0m\u001b[0m\n\u001b[0m\u001b[0;32m     12\u001b[0m \u001b[1;33m\u001b[0m\u001b[0m\n\u001b[0;32m     13\u001b[0m         \u001b[1;31m# get task names (for future reference)\u001b[0m\u001b[1;33m\u001b[0m\u001b[1;33m\u001b[0m\u001b[1;33m\u001b[0m\u001b[0m\n",
      "\u001b[1;32m~\\anaconda3\\lib\\site-packages\\troppo\\tasks\\core.py\u001b[0m in \u001b[0;36m__init__\u001b[1;34m(self, **kwargs)\u001b[0m\n\u001b[0;32m    311\u001b[0m \u001b[1;33m\u001b[0m\u001b[0m\n\u001b[0;32m    312\u001b[0m         \u001b[1;32mif\u001b[0m \u001b[1;34m'tasks'\u001b[0m \u001b[1;32min\u001b[0m \u001b[0mkwargs\u001b[0m\u001b[1;33m:\u001b[0m\u001b[1;33m\u001b[0m\u001b[1;33m\u001b[0m\u001b[0m\n\u001b[1;32m--> 313\u001b[1;33m             \u001b[0mself\u001b[0m\u001b[1;33m.\u001b[0m\u001b[0mtasks\u001b[0m \u001b[1;33m=\u001b[0m \u001b[0mkwargs\u001b[0m\u001b[1;33m[\u001b[0m\u001b[1;34m'tasks'\u001b[0m\u001b[1;33m]\u001b[0m\u001b[1;33m\u001b[0m\u001b[1;33m\u001b[0m\u001b[0m\n\u001b[0m\u001b[0;32m    314\u001b[0m         \u001b[0mself\u001b[0m\u001b[1;33m.\u001b[0m\u001b[0mhistory\u001b[0m \u001b[1;33m=\u001b[0m \u001b[1;32mNone\u001b[0m\u001b[1;33m\u001b[0m\u001b[1;33m\u001b[0m\u001b[0m\n\u001b[0;32m    315\u001b[0m \u001b[1;33m\u001b[0m\u001b[0m\n",
      "\u001b[1;32m~\\anaconda3\\lib\\site-packages\\troppo\\tasks\\core.py\u001b[0m in \u001b[0;36mtasks\u001b[1;34m(self, value)\u001b[0m\n\u001b[0;32m    403\u001b[0m         \u001b[1;31m# for t in value:\u001b[0m\u001b[1;33m\u001b[0m\u001b[1;33m\u001b[0m\u001b[1;33m\u001b[0m\u001b[0m\n\u001b[0;32m    404\u001b[0m         \u001b[1;31m#       self.__populate_task(t)\u001b[0m\u001b[1;33m\u001b[0m\u001b[1;33m\u001b[0m\u001b[1;33m\u001b[0m\u001b[0m\n\u001b[1;32m--> 405\u001b[1;33m         \u001b[0mself\u001b[0m\u001b[1;33m.\u001b[0m\u001b[0m__populate_tasks\u001b[0m\u001b[1;33m(\u001b[0m\u001b[0mvalue\u001b[0m\u001b[1;33m)\u001b[0m\u001b[1;33m\u001b[0m\u001b[1;33m\u001b[0m\u001b[0m\n\u001b[0m\u001b[0;32m    406\u001b[0m \u001b[1;33m\u001b[0m\u001b[0m\n\u001b[0;32m    407\u001b[0m     \u001b[1;32mdef\u001b[0m \u001b[0m__remove_task\u001b[0m\u001b[1;33m(\u001b[0m\u001b[0mself\u001b[0m\u001b[1;33m,\u001b[0m \u001b[0mtask_name\u001b[0m\u001b[1;33m)\u001b[0m\u001b[1;33m:\u001b[0m\u001b[1;33m\u001b[0m\u001b[1;33m\u001b[0m\u001b[0m\n",
      "\u001b[1;32m~\\anaconda3\\lib\\site-packages\\troppo\\tasks\\core.py\u001b[0m in \u001b[0;36m__populate_tasks\u001b[1;34m(self, tasks)\u001b[0m\n\u001b[0;32m    442\u001b[0m                 \u001b[1;32melse\u001b[0m\u001b[1;33m:\u001b[0m\u001b[1;33m\u001b[0m\u001b[1;33m\u001b[0m\u001b[0m\n\u001b[0;32m    443\u001b[0m                     \u001b[0mself\u001b[0m\u001b[1;33m.\u001b[0m\u001b[0m__task_rxs\u001b[0m\u001b[1;33m[\u001b[0m\u001b[0mk\u001b[0m\u001b[1;33m]\u001b[0m\u001b[1;33m.\u001b[0m\u001b[0mappend\u001b[0m\u001b[1;33m(\u001b[0m\u001b[0mtask\u001b[0m\u001b[1;33m.\u001b[0m\u001b[0mname\u001b[0m\u001b[1;33m)\u001b[0m\u001b[1;33m\u001b[0m\u001b[1;33m\u001b[0m\u001b[0m\n\u001b[1;32m--> 444\u001b[1;33m         \u001b[0mself\u001b[0m\u001b[1;33m.\u001b[0m\u001b[0mmodel\u001b[0m\u001b[1;33m.\u001b[0m\u001b[0madd_reactions\u001b[0m\u001b[1;33m(\u001b[0m\u001b[1;33m**\u001b[0m\u001b[0madd_rx_args\u001b[0m\u001b[1;33m)\u001b[0m\u001b[1;33m\u001b[0m\u001b[1;33m\u001b[0m\u001b[0m\n\u001b[0m\u001b[0;32m    445\u001b[0m \u001b[1;33m\u001b[0m\u001b[0m\n\u001b[0;32m    446\u001b[0m \u001b[1;32mif\u001b[0m \u001b[0m__name__\u001b[0m \u001b[1;33m==\u001b[0m \u001b[1;34m'__main__'\u001b[0m\u001b[1;33m:\u001b[0m\u001b[1;33m\u001b[0m\u001b[1;33m\u001b[0m\u001b[0m\n",
      "\u001b[1;32m~\\anaconda3\\lib\\site-packages\\cobamp\\core\\models.py\u001b[0m in \u001b[0;36madd_reactions\u001b[1;34m(self, args, bounds, names, gpr)\u001b[0m\n\u001b[0;32m    348\u001b[0m                 \u001b[0mself\u001b[0m\u001b[1;33m.\u001b[0m\u001b[0mgpr\u001b[0m\u001b[1;33m.\u001b[0m\u001b[0madd_gprs\u001b[0m\u001b[1;33m(\u001b[0m\u001b[0mgprs\u001b[0m\u001b[1;33m)\u001b[0m\u001b[1;33m\u001b[0m\u001b[1;33m\u001b[0m\u001b[0m\n\u001b[0;32m    349\u001b[0m \u001b[1;33m\u001b[0m\u001b[0m\n\u001b[1;32m--> 350\u001b[1;33m                 \u001b[0mlbs\u001b[0m\u001b[1;33m,\u001b[0m \u001b[0mubs\u001b[0m \u001b[1;33m=\u001b[0m \u001b[0mzip\u001b[0m\u001b[1;33m(\u001b[0m\u001b[1;33m*\u001b[0m\u001b[0mbounds\u001b[0m\u001b[1;33m)\u001b[0m\u001b[1;33m\u001b[0m\u001b[1;33m\u001b[0m\u001b[0m\n\u001b[0m\u001b[0;32m    351\u001b[0m                 \u001b[1;32mif\u001b[0m \u001b[0mself\u001b[0m\u001b[1;33m.\u001b[0m\u001b[0mmodel\u001b[0m\u001b[1;33m:\u001b[0m\u001b[1;33m\u001b[0m\u001b[1;33m\u001b[0m\u001b[0m\n\u001b[0;32m    352\u001b[0m                         \u001b[0mself\u001b[0m\u001b[1;33m.\u001b[0m\u001b[0mmodel\u001b[0m\u001b[1;33m.\u001b[0m\u001b[0madd_columns_to_model\u001b[0m\u001b[1;33m(\u001b[0m\u001b[0mcols\u001b[0m\u001b[1;33m,\u001b[0m \u001b[0mnames\u001b[0m\u001b[1;33m,\u001b[0m \u001b[0mlbs\u001b[0m\u001b[1;33m,\u001b[0m \u001b[0mubs\u001b[0m\u001b[1;33m,\u001b[0m \u001b[0mVAR_CONTINUOUS\u001b[0m\u001b[1;33m,\u001b[0m \u001b[0monly_nonzero\u001b[0m\u001b[1;33m=\u001b[0m\u001b[1;32mTrue\u001b[0m\u001b[1;33m)\u001b[0m\u001b[1;33m\u001b[0m\u001b[1;33m\u001b[0m\u001b[0m\n",
      "\u001b[1;31mValueError\u001b[0m: not enough values to unpack (expected 2, got 0)"
     ]
    }
   ],
   "source": [
    "for k, result in fastcore_res_dict.items():\n",
    "    # using with statements to change the COBRA model temporarily\n",
    "    # this is done to knock-out reaction not appearing the FASTCORE result\n",
    "    with task_model as context_specific_model:\n",
    "        protected = set([k for k, v in result.items() if v])  # get reactions included in the sample-specific model\n",
    "        to_remove = all_reactions - protected  # get reactions except the protected ones\n",
    "        for rid in to_remove:\n",
    "            context_specific_model.reactions.get_by_id(rid).knock_out()  # knock-out reactions not in the model\n",
    "\n",
    "        # create a task evaluator instance with the context specific model and the supplied task list and solver\n",
    "        task_eval = TaskEvaluator(model=task_model, tasks=task_list, solver='CPLEX')\n",
    "\n",
    "        # get task names (for future reference)\n",
    "        task_names = task_eval.tasks\n",
    "\n",
    "        # use the batch_function from the TaskEvaluator class (takes the name of a loaded task, a params\n",
    "        # dictionary with the task evaluator associated to the 'tev' key) and set the amount of threads to be used\n",
    "        batch_res_tasks = batch_run(TaskEvaluator.batch_function, task_names, {'tev': task_eval}, threads=8)\n",
    "    # each element in the list of results in batch_res_tasks is a tuple of length 3 with the following:\n",
    "    # 0 - boolean flag representing the task evaluation\n",
    "    # 1 - Solution instance used to evaluate the task\n",
    "    # 2 - A dictionary with reactions supposed to be active mapped to True/False according to that criterion\n",
    "\n",
    "    # keep only items 0 and 2 of the task result - we don't need the flux distribution\n",
    "    task_csm_res = {k: (v[0], v[2]) for k, v in dict(zip(task_names, batch_res_tasks)).items()}\n",
    "    print(k,len(protected),len([v for k,v in task_csm_res.items() if v[0]]),'tasks completed.')\n",
    "    # assign this dictionary to it's sample on the master results dictionary\n",
    "    task_eval_results[k] = task_csm_res"
   ]
  },
  {
   "cell_type": "code",
   "execution_count": null,
   "id": "a9c7b104-5f37-4bb2-9091-055c03693800",
   "metadata": {},
   "outputs": [],
   "source": [
    "with open(TASK_RESULTS_PATH, 'w') as f:\n",
    "\t\tf.write(JSONEncoder().encode([(k,v) for k,v in task_eval_results.items()]))"
   ]
  }
 ],
 "metadata": {
  "kernelspec": {
   "display_name": "Python 3",
   "language": "python",
   "name": "python3"
  },
  "language_info": {
   "codemirror_mode": {
    "name": "ipython",
    "version": 3
   },
   "file_extension": ".py",
   "mimetype": "text/x-python",
   "name": "python",
   "nbconvert_exporter": "python",
   "pygments_lexer": "ipython3",
   "version": "3.8.8"
  }
 },
 "nbformat": 4,
 "nbformat_minor": 5
}
